{
 "cells": [
  {
   "cell_type": "markdown",
   "metadata": {},
   "source": [
    "This notebook is a tutorial for generating all molecular descriptors used in the paper *Towards Data-driven Design of Asymmetric Hydrogenation of Olefins: Database and Hierarchical Learning*"
   ]
  },
  {
   "cell_type": "markdown",
   "metadata": {},
   "source": [
    "# Load dependence"
   ]
  },
  {
   "cell_type": "code",
   "execution_count": 1,
   "metadata": {
    "ExecuteTime": {
     "end_time": "2021-07-15T11:49:45.506160Z",
     "start_time": "2021-07-15T11:49:44.639475Z"
    }
   },
   "outputs": [],
   "source": [
    "import numpy as np\n",
    "import pandas as pd\n",
    "import glob,os\n",
    "from ase import Atoms\n",
    "from gendesc import generate2Ddesc,generate3Ddesc,getusidx,getmorganfp\n",
    "from mlutils import process_desc,molformatconversion,maxminscale\n",
    "from dscribe.descriptors import MBTR\n",
    "from rdkit import Chem\n",
    "from rdkit.Chem.rdMolDescriptors import GetMorganFingerprintAsBitVect"
   ]
  },
  {
   "cell_type": "markdown",
   "metadata": {},
   "source": [
    "# Read data file"
   ]
  },
  {
   "cell_type": "markdown",
   "metadata": {},
   "source": [
    "For demonstration, we just operate on 5 entries data here"
   ]
  },
  {
   "cell_type": "code",
   "execution_count": 2,
   "metadata": {
    "ExecuteTime": {
     "end_time": "2021-07-15T11:49:47.235767Z",
     "start_time": "2021-07-15T11:49:47.216733Z"
    },
    "scrolled": true
   },
   "outputs": [
    {
     "data": {
      "text/html": [
       "<div>\n",
       "<style scoped>\n",
       "    .dataframe tbody tr th:only-of-type {\n",
       "        vertical-align: middle;\n",
       "    }\n",
       "\n",
       "    .dataframe tbody tr th {\n",
       "        vertical-align: top;\n",
       "    }\n",
       "\n",
       "    .dataframe thead th {\n",
       "        text-align: right;\n",
       "    }\n",
       "</style>\n",
       "<table border=\"1\" class=\"dataframe\">\n",
       "  <thead>\n",
       "    <tr style=\"text-align: right;\">\n",
       "      <th></th>\n",
       "      <th>Reactant SMILES</th>\n",
       "      <th>Product SMILES</th>\n",
       "      <th>Solvent SMILES</th>\n",
       "      <th>Additive SMILES</th>\n",
       "      <th>Metal</th>\n",
       "      <th>Ligand SMILES</th>\n",
       "      <th>Catalyst SMILES(RDKit)</th>\n",
       "      <th>Axial tag</th>\n",
       "      <th>Pressure/atm</th>\n",
       "      <th>Temperature/C</th>\n",
       "      <th>S/C</th>\n",
       "      <th>ddG</th>\n",
       "      <th>ee</th>\n",
       "    </tr>\n",
       "  </thead>\n",
       "  <tbody>\n",
       "    <tr>\n",
       "      <th>1</th>\n",
       "      <td>CCOC(=O)/C=C(\\C)c1ccccc1</td>\n",
       "      <td>CCOC(=O)C[C@@H](C)c1ccccc1</td>\n",
       "      <td>ClCCl</td>\n",
       "      <td>NaN</td>\n",
       "      <td>Ir</td>\n",
       "      <td>Cc1ccccc1P(c1ccccc1C)N1[C@H]2CC[C@H](C2)[C@@H]...</td>\n",
       "      <td>Cc1ccccc1P(c1ccccc1C)8-&gt;N1[C@H]2CC[C@H](C2)[C@...</td>\n",
       "      <td>0</td>\n",
       "      <td>49</td>\n",
       "      <td>25</td>\n",
       "      <td>200</td>\n",
       "      <td>2.720953</td>\n",
       "      <td>0.98</td>\n",
       "    </tr>\n",
       "    <tr>\n",
       "      <th>2</th>\n",
       "      <td>CON(C)C(=O)/C=C(\\C)c1ccccc1</td>\n",
       "      <td>CON(C)C(=O)C[C@@H](C)c1ccccc1</td>\n",
       "      <td>CO</td>\n",
       "      <td>NaN</td>\n",
       "      <td>Ir</td>\n",
       "      <td>CC(C)(C)[C@H]1COC(C2=CCC[C@@]23CCC=C3P(c2ccccc...</td>\n",
       "      <td>CC(C)(C)[C@H]1COC(C2=CCC[C@@]23CCC=C3P(c2ccccc...</td>\n",
       "      <td>0</td>\n",
       "      <td>50</td>\n",
       "      <td>25</td>\n",
       "      <td>100</td>\n",
       "      <td>0.240092</td>\n",
       "      <td>0.20</td>\n",
       "    </tr>\n",
       "    <tr>\n",
       "      <th>3</th>\n",
       "      <td>CON(C)C(=O)/C=C(\\C)c1ccccc1</td>\n",
       "      <td>CON(C)C(=O)C[C@@H](C)c1ccccc1</td>\n",
       "      <td>ClCCl</td>\n",
       "      <td>NaN</td>\n",
       "      <td>Ir</td>\n",
       "      <td>CC(C)C[C@H]1COC(C2=CCC[C@@]23CCC=C3P(c2ccccc2)...</td>\n",
       "      <td>CC(C)C[C@H]1COC(C2=CCC[C@@]23CCC=C3P(c2ccccc2)...</td>\n",
       "      <td>0</td>\n",
       "      <td>50</td>\n",
       "      <td>25</td>\n",
       "      <td>50</td>\n",
       "      <td>1.369995</td>\n",
       "      <td>0.82</td>\n",
       "    </tr>\n",
       "    <tr>\n",
       "      <th>4</th>\n",
       "      <td>CON(C)C(=O)/C=C(\\C)c1ccc(C)cc1</td>\n",
       "      <td>CON(C)C(=O)C[C@@H](C)c1ccc(C)cc1</td>\n",
       "      <td>ClCCl</td>\n",
       "      <td>NaN</td>\n",
       "      <td>Ir</td>\n",
       "      <td>C1=C(C2=N[C@@H](Cc3ccccc3)CO2)[C@@]2(CC1)CCC=C...</td>\n",
       "      <td>C1=C(C2=N9-&gt;[C@@H](Cc3ccccc3)CO2)[C@@]2(CC1)CC...</td>\n",
       "      <td>0</td>\n",
       "      <td>50</td>\n",
       "      <td>25</td>\n",
       "      <td>50</td>\n",
       "      <td>2.477863</td>\n",
       "      <td>0.97</td>\n",
       "    </tr>\n",
       "    <tr>\n",
       "      <th>5</th>\n",
       "      <td>C=C(CO)c1ccc(Cl)cc1</td>\n",
       "      <td>C[C@@H](CO)c1ccc(Cl)cc1</td>\n",
       "      <td>ClCCl</td>\n",
       "      <td>NaN</td>\n",
       "      <td>Ir</td>\n",
       "      <td>C[C@@H]1OC=N[C@@H]1C(Cc1ccccc1)(Cc1ccccc1)OP(C...</td>\n",
       "      <td>C[C@@H]1OC=N9-&gt;[C@@H]1C(Cc1ccccc1)(Cc1ccccc1)O...</td>\n",
       "      <td>0</td>\n",
       "      <td>10</td>\n",
       "      <td>-20</td>\n",
       "      <td>200</td>\n",
       "      <td>1.383259</td>\n",
       "      <td>0.88</td>\n",
       "    </tr>\n",
       "  </tbody>\n",
       "</table>\n",
       "</div>"
      ],
      "text/plain": [
       "                  Reactant SMILES                    Product SMILES  \\\n",
       "1        CCOC(=O)/C=C(\\C)c1ccccc1        CCOC(=O)C[C@@H](C)c1ccccc1   \n",
       "2     CON(C)C(=O)/C=C(\\C)c1ccccc1     CON(C)C(=O)C[C@@H](C)c1ccccc1   \n",
       "3     CON(C)C(=O)/C=C(\\C)c1ccccc1     CON(C)C(=O)C[C@@H](C)c1ccccc1   \n",
       "4  CON(C)C(=O)/C=C(\\C)c1ccc(C)cc1  CON(C)C(=O)C[C@@H](C)c1ccc(C)cc1   \n",
       "5             C=C(CO)c1ccc(Cl)cc1           C[C@@H](CO)c1ccc(Cl)cc1   \n",
       "\n",
       "  Solvent SMILES  Additive SMILES Metal  \\\n",
       "1          ClCCl              NaN    Ir   \n",
       "2             CO              NaN    Ir   \n",
       "3          ClCCl              NaN    Ir   \n",
       "4          ClCCl              NaN    Ir   \n",
       "5          ClCCl              NaN    Ir   \n",
       "\n",
       "                                       Ligand SMILES  \\\n",
       "1  Cc1ccccc1P(c1ccccc1C)N1[C@H]2CC[C@H](C2)[C@@H]...   \n",
       "2  CC(C)(C)[C@H]1COC(C2=CCC[C@@]23CCC=C3P(c2ccccc...   \n",
       "3  CC(C)C[C@H]1COC(C2=CCC[C@@]23CCC=C3P(c2ccccc2)...   \n",
       "4  C1=C(C2=N[C@@H](Cc3ccccc3)CO2)[C@@]2(CC1)CCC=C...   \n",
       "5  C[C@@H]1OC=N[C@@H]1C(Cc1ccccc1)(Cc1ccccc1)OP(C...   \n",
       "\n",
       "                              Catalyst SMILES(RDKit)  Axial tag  Pressure/atm  \\\n",
       "1  Cc1ccccc1P(c1ccccc1C)8->N1[C@H]2CC[C@H](C2)[C@...          0            49   \n",
       "2  CC(C)(C)[C@H]1COC(C2=CCC[C@@]23CCC=C3P(c2ccccc...          0            50   \n",
       "3  CC(C)C[C@H]1COC(C2=CCC[C@@]23CCC=C3P(c2ccccc2)...          0            50   \n",
       "4  C1=C(C2=N9->[C@@H](Cc3ccccc3)CO2)[C@@]2(CC1)CC...          0            50   \n",
       "5  C[C@@H]1OC=N9->[C@@H]1C(Cc1ccccc1)(Cc1ccccc1)O...          0            10   \n",
       "\n",
       "   Temperature/C  S/C       ddG    ee  \n",
       "1             25  200  2.720953  0.98  \n",
       "2             25  100  0.240092  0.20  \n",
       "3             25   50  1.369995  0.82  \n",
       "4             25   50  2.477863  0.97  \n",
       "5            -20  200  1.383259  0.88  "
      ]
     },
     "execution_count": 2,
     "metadata": {},
     "output_type": "execute_result"
    }
   ],
   "source": [
    "df = pd.read_csv('./data/demo_data.csv',index_col=0)   ### \n",
    "re_smi = df['Reactant SMILES'].to_numpy()\n",
    "pr_smi = df['Product SMILES'].to_numpy()\n",
    "sol_smi = df['Solvent SMILES'].to_numpy()\n",
    "cat_smi = df['Catalyst SMILES(RDKit)'].to_numpy()\n",
    "press = df['Pressure/atm'].to_numpy().reshape(-1,1)\n",
    "temp = df['Temperature/C'].to_numpy().reshape(-1,1)\n",
    "s_c = df['S/C'].to_numpy().reshape(-1,1)\n",
    "tag = df['ddG'].to_numpy().reshape(-1,1)\n",
    "df"
   ]
  },
  {
   "cell_type": "markdown",
   "metadata": {},
   "source": [
    "# Generate 3D geometries"
   ]
  },
  {
   "cell_type": "markdown",
   "metadata": {},
   "source": [
    "We need generate 3D geometries for 3D descriptors. For convenience, we stored GFN0-xTB-generated geometries in \"demo_geoms.csv\". We convert them into \".sdf\" and \".xyz\" files"
   ]
  },
  {
   "cell_type": "code",
   "execution_count": 3,
   "metadata": {
    "ExecuteTime": {
     "end_time": "2021-07-15T11:49:49.462517Z",
     "start_time": "2021-07-15T11:49:49.445877Z"
    }
   },
   "outputs": [],
   "source": [
    "demo_smi_geoms_map = pd.read_csv('./data/demo_geoms.csv',index_col=0)"
   ]
  },
  {
   "cell_type": "code",
   "execution_count": 4,
   "metadata": {
    "ExecuteTime": {
     "end_time": "2021-07-15T11:49:50.533138Z",
     "start_time": "2021-07-15T11:49:50.508486Z"
    }
   },
   "outputs": [
    {
     "name": "stdout",
     "output_type": "stream",
     "text": [
      "1 molecules converted\n",
      "1 molecules converted\n",
      "1 molecules converted\n",
      "1 molecules converted\n",
      "1 molecules converted\n",
      "1 molecules converted\n",
      "1 molecules converted\n",
      "1 molecules converted\n",
      "1 molecules converted\n",
      "1 molecules converted\n",
      "1 molecules converted\n",
      "1 molecules converted\n",
      "1 molecules converted\n",
      "1 molecules converted\n",
      "1 molecules converted\n"
     ]
    }
   ],
   "source": [
    "smiles_keys = list(demo_smi_geoms_map.keys())\n",
    "if not os.path.exists('./data/geoms_demo/'):\n",
    "    os.mkdir('./data/geoms_demo/')\n",
    "for idx,tmp_key in enumerate(smiles_keys):\n",
    "    try:\n",
    "        geoms_list = eval(demo_smi_geoms_map[tmp_key][0])[1].split('\\n')\n",
    "    except:\n",
    "        geoms_list = [tmp_item.strip() for tmp_item in eval(demo_smi_geoms_map[tmp_key][0])[1]]\n",
    "    if tmp_key in re_smi:\n",
    "        tmp_type = 'react'\n",
    "    elif tmp_key in pr_smi:\n",
    "        tmp_type = 'prod'\n",
    "    elif tmp_key in sol_smi:\n",
    "        tmp_type = 'sol'\n",
    "    elif tmp_key in cat_smi:\n",
    "        tmp_type = 'cat'\n",
    "    geoms_list[1] = '%s %s'%(tmp_key,tmp_type)\n",
    "    geoms_string = '\\n'.join(geoms_list)\n",
    "    with open('./data/geoms_demo/geom_%d.xyz'%idx,'w') as fw:\n",
    "        fw.writelines(geoms_string)\n",
    "    molformatconversion('./data/geoms_demo/geom_%d.xyz'%idx,'./data/geoms_demo/geom_%d.sdf'%idx,'xyz','sdf')"
   ]
  },
  {
   "cell_type": "markdown",
   "metadata": {},
   "source": [
    "# Generate 2D/3D descriptor map"
   ]
  },
  {
   "cell_type": "markdown",
   "metadata": {},
   "source": [
    "*generate2Ddesc*,*generate3Ddesc* modules in *gendesc* can be used to generate 2D descriptors including **MolecularFingerprint (MF)**, **200 (or 208) molecular descriptors built-in RDKit**, and **molecular descriptors built-in Mordred**, and 3D descriptors like **ACSF**, **MBTR**, **SOAP** and **LMBTR**. In addition, the paramters of these modules can be modified."
   ]
  },
  {
   "cell_type": "code",
   "execution_count": 5,
   "metadata": {
    "ExecuteTime": {
     "end_time": "2021-07-15T11:49:52.597441Z",
     "start_time": "2021-07-15T11:49:52.407044Z"
    },
    "scrolled": true
   },
   "outputs": [],
   "source": [
    "gen2d = generate2Ddesc(df)\n",
    "rdkit_desc_map = gen2d.calc_rdkit_desc()\n",
    "radius = 4\n",
    "nBits = 2048\n",
    "mf_desc_map = gen2d.calc_mf_desc(radius,nBits=nBits,useChirality=True)"
   ]
  },
  {
   "cell_type": "code",
   "execution_count": 6,
   "metadata": {
    "ExecuteTime": {
     "end_time": "2021-07-15T11:49:53.874672Z",
     "start_time": "2021-07-15T11:49:53.342356Z"
    },
    "scrolled": true
   },
   "outputs": [],
   "source": [
    "gen3d = generate3Ddesc('./data/geoms_demo/')\n",
    "### ACSF Parameters ###\n",
    "rcut=6.0\n",
    "g2_params=[[1, 1], [1, 2], [1, 3]]\n",
    "g4_params=[[1, 1, 1], [1, 2, 1], [1, 1, -1], [1, 2, -1]]\n",
    "acsf_desc_map = gen3d.calc_acsf_desc(rcut,g2_params,g4_params)\n",
    "### SOAP Parameters ###\n",
    "rcut = 6.0\n",
    "nmax = 4\n",
    "lmax = 3\n",
    "soap_desc_map = gen3d.calc_soap_desc(rcut,nmax,lmax)\n",
    "### LMBTR Parameters ###\n",
    "k2={\n",
    "        \"geometry\": {\"function\": \"inverse_distance\"},\n",
    "        \"grid\": {\"min\": 0, \"max\": 1, \"n\": 10, \"sigma\": 0.1},\n",
    "        \"weighting\": {\"function\": \"exponential\", \"scale\": 0.5, \"cutoff\": 1e-3},\n",
    "    }\n",
    "k3={\n",
    "        \"geometry\": {\"function\": \"cosine\"},\n",
    "        \"grid\": {\"min\": -1, \"max\": 1, \"n\": 10, \"sigma\": 0.1},\n",
    "        \"weighting\": {\"function\": \"exponential\", \"scale\": 0.5, \"cutoff\": 1e-3},\n",
    "    }\n",
    "lmbtr_desc_map = gen3d.calc_lmbtr_desc(k2,k3)\n",
    "### MBTR Parameters ###\n",
    "k1={\n",
    "        \"geometry\": {\"function\": \"atomic_number\"},\n",
    "        \"grid\": {\"min\": 0, \"max\": 8, \"n\": 10, \"sigma\": 0.1},\n",
    "    }\n",
    "k2={\n",
    "        \"geometry\": {\"function\": \"inverse_distance\"},\n",
    "        \"grid\": {\"min\": 0, \"max\": 4, \"n\": 10, \"sigma\": 0.1},\n",
    "        \"weighting\": {\"function\": \"exponential\", \"scale\": 0.5, \"cutoff\": 1e-3},\n",
    "    }\n",
    "k3={\n",
    "        \"geometry\": {\"function\": \"cosine\"},\n",
    "        \"grid\": {\"min\": -1, \"max\": 4, \"n\": 10, \"sigma\": 0.1},\n",
    "        \"weighting\": {\"function\": \"exponential\", \"scale\": 0.5, \"cutoff\": 1e-3},\n",
    "    }\n",
    "mbtr_desc_map  = gen3d.calc_mbtr_desc(k1,k2,k3)"
   ]
  },
  {
   "cell_type": "markdown",
   "metadata": {},
   "source": [
    "descriptor map demonstration"
   ]
  },
  {
   "cell_type": "code",
   "execution_count": 7,
   "metadata": {
    "ExecuteTime": {
     "end_time": "2021-07-15T11:49:54.915472Z",
     "start_time": "2021-07-15T11:49:54.904066Z"
    }
   },
   "outputs": [
    {
     "name": "stdout",
     "output_type": "stream",
     "text": [
      "SMILES:\n",
      " CCOC(=O)/C=C(\\C)c1ccccc1\n",
      "Top 50 vector of MBTR:\n",
      "[0.0000000e+00 7.5882059e-01 3.2569974e-04 0.0000000e+00 0.0000000e+00\n",
      " 0.0000000e+00 0.0000000e+00 0.0000000e+00 0.0000000e+00 0.0000000e+00\n",
      " 0.0000000e+00 0.0000000e+00 0.0000000e+00 0.0000000e+00 0.0000000e+00\n",
      " 0.0000000e+00 8.5463310e-03 6.4215040e-01 0.0000000e+00 0.0000000e+00\n",
      " 0.0000000e+00 0.0000000e+00 0.0000000e+00 0.0000000e+00 0.0000000e+00\n",
      " 0.0000000e+00 0.0000000e+00 0.0000000e+00 0.0000000e+00 0.0000000e+00\n",
      " 0.0000000e+00 0.0000000e+00 0.0000000e+00 0.0000000e+00 0.0000000e+00\n",
      " 0.0000000e+00 0.0000000e+00 0.0000000e+00 4.7834283e-07 1.0844851e-01\n",
      " 0.0000000e+00 0.0000000e+00 0.0000000e+00 0.0000000e+00 0.0000000e+00\n",
      " 0.0000000e+00 0.0000000e+00 0.0000000e+00 0.0000000e+00 0.0000000e+00]\n"
     ]
    }
   ],
   "source": [
    "print('SMILES:\\n %s'%re_smi[0])\n",
    "print('Top 50 vector of MBTR:')\n",
    "print(mbtr_desc_map[re_smi[0]][:50])"
   ]
  },
  {
   "cell_type": "markdown",
   "metadata": {},
   "source": [
    "# Generate reaction descritor"
   ]
  },
  {
   "cell_type": "markdown",
   "metadata": {},
   "source": [
    "In this tutorial, we just generate MBTR+MF reaction descriptor for demonstration"
   ]
  },
  {
   "cell_type": "code",
   "execution_count": 8,
   "metadata": {
    "ExecuteTime": {
     "end_time": "2021-07-15T11:49:56.414266Z",
     "start_time": "2021-07-15T11:49:56.325707Z"
    }
   },
   "outputs": [],
   "source": [
    "re_desc_1,re_desc_2 = np.array([mbtr_desc_map[tmp_smi] for tmp_smi in re_smi]),\\\n",
    "                      np.array([mf_desc_map[tmp_smi] for tmp_smi in re_smi])\n",
    "pr_desc_1,pr_desc_2 = np.array([mbtr_desc_map[tmp_smi] for tmp_smi in pr_smi]),\\\n",
    "                      np.array([mf_desc_map[tmp_smi] for tmp_smi in pr_smi])\n",
    "sol_desc_1,sol_desc_2 = np.array([mbtr_desc_map[tmp_smi] for tmp_smi in sol_smi]),\\\n",
    "                      np.array([mf_desc_map[tmp_smi] for tmp_smi in sol_smi])\n",
    "cat_desc_1,cat_desc_2 = np.array([mbtr_desc_map[tmp_smi] for tmp_smi in cat_smi]),\\\n",
    "                      np.array([mf_desc_map[tmp_smi] for tmp_smi in cat_smi])\n",
    "react_desc = np.concatenate([re_desc_1,re_desc_2,pr_desc_1,pr_desc_2,\n",
    "                             sol_desc_1,sol_desc_2,cat_desc_1,cat_desc_2,press,temp,s_c],axis=1)\n",
    "react_desc = maxminscale(process_desc(react_desc)) ### Use \"process_desc\" function to drop \"NaN\" value\n",
    "                                                   ### Use \"maxminscale\" function to standard descriptor "
   ]
  },
  {
   "cell_type": "code",
   "execution_count": 9,
   "metadata": {
    "ExecuteTime": {
     "end_time": "2021-07-15T11:49:57.457693Z",
     "start_time": "2021-07-15T11:49:57.448483Z"
    }
   },
   "outputs": [
    {
     "data": {
      "text/plain": [
       "(5, 1836)"
      ]
     },
     "execution_count": 9,
     "metadata": {},
     "output_type": "execute_result"
    }
   ],
   "source": [
    "react_desc.shape"
   ]
  }
 ],
 "metadata": {
  "kernelspec": {
   "display_name": "Python 3",
   "language": "python",
   "name": "python3"
  },
  "language_info": {
   "codemirror_mode": {
    "name": "ipython",
    "version": 3
   },
   "file_extension": ".py",
   "mimetype": "text/x-python",
   "name": "python",
   "nbconvert_exporter": "python",
   "pygments_lexer": "ipython3",
   "version": "3.7.3"
  },
  "toc": {
   "base_numbering": 1,
   "nav_menu": {},
   "number_sections": true,
   "sideBar": true,
   "skip_h1_title": false,
   "title_cell": "Table of Contents",
   "title_sidebar": "Contents",
   "toc_cell": false,
   "toc_position": {},
   "toc_section_display": true,
   "toc_window_display": true
  },
  "varInspector": {
   "cols": {
    "lenName": 16,
    "lenType": 16,
    "lenVar": 40
   },
   "kernels_config": {
    "python": {
     "delete_cmd_postfix": "",
     "delete_cmd_prefix": "del ",
     "library": "var_list.py",
     "varRefreshCmd": "print(var_dic_list())"
    },
    "r": {
     "delete_cmd_postfix": ") ",
     "delete_cmd_prefix": "rm(",
     "library": "var_list.r",
     "varRefreshCmd": "cat(var_dic_list()) "
    }
   },
   "types_to_exclude": [
    "module",
    "function",
    "builtin_function_or_method",
    "instance",
    "_Feature"
   ],
   "window_display": false
  }
 },
 "nbformat": 4,
 "nbformat_minor": 5
}
