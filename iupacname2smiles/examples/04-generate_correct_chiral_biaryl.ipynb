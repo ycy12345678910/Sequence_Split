{
 "cells": [
  {
   "cell_type": "code",
   "execution_count": 25,
   "metadata": {
    "ExecuteTime": {
     "end_time": "2021-07-13T01:54:58.189988Z",
     "start_time": "2021-07-13T01:54:58.184889Z"
    }
   },
   "outputs": [],
   "source": [
    "from rdkit import Chem\n",
    "from rdkit.Chem import AllChem"
   ]
  },
  {
   "cell_type": "code",
   "execution_count": 28,
   "metadata": {
    "ExecuteTime": {
     "end_time": "2021-07-13T01:55:02.907494Z",
     "start_time": "2021-07-13T01:55:02.849422Z"
    },
    "scrolled": true
   },
   "outputs": [
    {
     "name": "stderr",
     "output_type": "stream",
     "text": [
      "RDKit WARNING: [01:55:02] UFFTYPER: Warning: hybridization set to SP3 for atom 3\n"
     ]
    }
   ],
   "source": [
    "smiles = 'CN(C)P1OC2=[C@](C(C=CC=C3)=C3C=C2)[C@]4=C(C=CC5=C4C=CC=C5)O1'\n",
    "match_smarts = '[#15]1-,:[#8]-,:[#6]-,:[#6]-,:[#6]-,:[#6]-,:[#8]-,:1'\n",
    "mol = AllChem.AddHs(Chem.MolFromSmiles(smiles))\n",
    "\n",
    "'''\n",
    "This tag is used to insure the correct axial chirality\n",
    "'''\n",
    "axial_tag = -1\n",
    "maxattempts = 10000\n",
    "for i in range(maxattempts):\n",
    "    AllChem.EmbedMolecule(mol)\n",
    "    conf = mol.GetConformer()\n",
    "    match_atoms = mol.GetSubstructMatch(Chem.MolFromSmarts(match_smarts))[2:6]\n",
    "    dihedral = Chem.rdMolTransforms.GetDihedralDeg(conf,*match_atoms)\n",
    "    if dihedral * axial_tag > 0:\n",
    "        AllChem.MMFFOptimizeMolecule(mol)\n",
    "        break\n",
    "Chem.MolToMolFile(mol,'./biaryl/mol_1.sdf')"
   ]
  },
  {
   "cell_type": "markdown",
   "metadata": {},
   "source": [
    "The matched atoms at molecule are highlighted below"
   ]
  },
  {
   "cell_type": "code",
   "execution_count": 29,
   "metadata": {
    "ExecuteTime": {
     "end_time": "2021-07-13T01:55:04.050040Z",
     "start_time": "2021-07-13T01:55:04.038059Z"
    }
   },
   "outputs": [
    {
     "data": {
      "image/png": "[encoded data removed]",
      "text/plain": [
       "<rdkit.Chem.rdchem.Mol at 0x7f5a8332d120>"
      ]
     },
     "execution_count": 29,
     "metadata": {},
     "output_type": "execute_result"
    }
   ],
   "source": [
    "mol"
   ]
  }
 ],
 "metadata": {
  "kernelspec": {
   "display_name": "Python 3",
   "language": "python",
   "name": "python3"
  },
  "language_info": {
   "codemirror_mode": {
    "name": "ipython",
    "version": 3
   },
   "file_extension": ".py",
   "mimetype": "text/x-python",
   "name": "python",
   "nbconvert_exporter": "python",
   "pygments_lexer": "ipython3",
   "version": "3.7.3"
  },
  "toc": {
   "base_numbering": 1,
   "nav_menu": {},
   "number_sections": true,
   "sideBar": true,
   "skip_h1_title": false,
   "title_cell": "Table of Contents",
   "title_sidebar": "Contents",
   "toc_cell": false,
   "toc_position": {},
   "toc_section_display": true,
   "toc_window_display": false
  },
  "varInspector": {
   "cols": {
    "lenName": 16,
    "lenType": 16,
    "lenVar": 40
   },
   "kernels_config": {
    "python": {
     "delete_cmd_postfix": "",
     "delete_cmd_prefix": "del ",
     "library": "var_list.py",
     "varRefreshCmd": "print(var_dic_list())"
    },
    "r": {
     "delete_cmd_postfix": ") ",
     "delete_cmd_prefix": "rm(",
     "library": "var_list.r",
     "varRefreshCmd": "cat(var_dic_list()) "
    }
   },
   "types_to_exclude": [
    "module",
    "function",
    "builtin_function_or_method",
    "instance",
    "_Feature"
   ],
   "window_display": false
  }
 },
 "nbformat": 4,
 "nbformat_minor": 4
}
